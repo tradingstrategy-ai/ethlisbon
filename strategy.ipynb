{
 "cells": [
  {
   "cell_type": "markdown",
   "metadata": {
    "pycharm": {
     "name": "#%% md\n"
    }
   },
   "source": [
    "# EthLisbon trading strategy\n",
    "\n",
    "This is a trading strategy demostrated in EthLisbon hackathon.\n",
    "\n",
    "## Strategy and backtesting parameters\n",
    "\n",
    "Here we define all parameters that affect the backtesting outcome."
   ]
  },
  {
   "cell_type": "code",
   "execution_count": 25,
   "metadata": {
    "pycharm": {
     "name": "#%%\n"
    }
   },
   "outputs": [],
   "source": [
    "import pandas as pd\n",
    "from tradingstrategy.timebucket import TimeBucket\n",
    "from tradingstrategy.chain import ChainId\n",
    "\n",
    "TARGET_PAIR = (\"GRT\", \"WETH\")\n",
    "\n",
    "# The backtest only consider Ethereum mainnet\n",
    "BLOCKCHAIN = ChainId.ethereum\n",
    "\n",
    "# The backtest only considers Sushiswap v2 exchange\n",
    "EXCHANGE = \"sushiswap\"\n",
    "\n",
    "# Use 4h candles for backtesting\n",
    "CANDLE_KIND = TimeBucket.h1\n",
    "\n",
    "# How many USD is our play money wallet\n",
    "INITIAL_CASH = 10_000\n",
    "\n",
    "# The moving average must be above of this number for us to buy\n",
    "MOVING_AVERAGE_CANDLES = 50\n",
    "\n",
    "# How many previous candles we sample for the low close value\n",
    "LOW_CANDLES = 7\n",
    "\n",
    "# How many previous candles we sample for the high close value\n",
    "HIGH_CANDLES = 7\n",
    "\n",
    "# When do we start the backtesting - limit the candle set from the data dump from the server\n",
    "BACKTESTING_BEGINS = pd.Timestamp(\"2021-01-01\")\n",
    "\n",
    "# When do we end backtesting\n",
    "BACKTESTING_ENDS = pd.Timestamp(\"2021-10-01\")\n",
    "\n",
    "# If the price drops 15% we trigger a stop loss\n",
    "STOP_LOSS = 0.97"
   ]
  },
  {
   "cell_type": "markdown",
   "metadata": {
    "pycharm": {
     "name": "#%% md\n"
    }
   },
   "source": [
    "## Initialising the Trading Strategy client"
   ]
  },
  {
   "cell_type": "code",
   "execution_count": 26,
   "outputs": [
    {
     "name": "stdout",
     "output_type": "stream",
     "text": [
      "Started Trading Strategy in Jupyter notebook environment, configuration is stored in /Users/mikkoohtamaa/.tradingstrategy\n"
     ]
    }
   ],
   "source": [
    "from tradingstrategy.client import Client\n",
    "\n",
    "client = Client.create_jupyter_client()"
   ],
   "metadata": {
    "collapsed": false,
    "pycharm": {
     "name": "#%%\n"
    }
   }
  },
  {
   "cell_type": "markdown",
   "metadata": {
    "pycharm": {
     "name": "#%% md\n"
    }
   },
   "source": [
    "## Creating the strategy\n",
    "\n",
    "Here is the strategy defined for Backtrader."
   ]
  },
  {
   "cell_type": "code",
   "execution_count": 27,
   "metadata": {
    "pycharm": {
     "name": "#%%\n"
    }
   },
   "outputs": [],
   "source": [
    "from typing import Optional\n",
    "import backtrader as bt\n",
    "from backtrader import indicators\n",
    "\n",
    "from tradingstrategy.analysis.tradehint import TradeHint, TradeHintType\n",
    "from tradingstrategy.frameworks.backtrader import DEXStrategy\n",
    "from backtrader import analyzers, Position\n",
    "\n",
    "\n",
    "class Double7(DEXStrategy):\n",
    "    \"\"\"An example of double-77 strategy for DEX spot trading.\n",
    "\n",
    "    The original description: https://www.thechartist.com.au/double-7-s-strategy/\n",
    "    \"\"\"\n",
    "\n",
    "    def start(self):\n",
    "        # Set up indicators used in this strategy\n",
    "\n",
    "        # Moving average that tells us when we are in the bull market\n",
    "        self.moving_average = indicators.SMA(period=MOVING_AVERAGE_CANDLES)\n",
    "\n",
    "        # The highest close price for the N candles\n",
    "        # \"exit\" in pine script\n",
    "        self.highest = indicators.Highest(self.data.close, period=HIGH_CANDLES, plot=True, subplot=False)\n",
    "\n",
    "        # The lowest close price for the N candles\n",
    "        # \"entry\" in pine script\n",
    "        self.lowest = indicators.Lowest(self.data.close, period=LOW_CANDLES, plot=True, subplot=False)\n",
    "\n",
    "    def next(self):\n",
    "        \"\"\"Execute a decision making tick for each candle.\"\"\"\n",
    "\n",
    "        # print(\"Tick\", self.tick)\n",
    "        # print(\"Tick\", self.tick)\n",
    "\n",
    "        close = self.data.close[0]\n",
    "        low = self.lowest[-1]\n",
    "        high = self.highest[-1]\n",
    "        avg = self.moving_average[0]\n",
    "\n",
    "        if not all([close, low, high, avg]):\n",
    "            # Do not try to make any decision if we have nan or zero data\n",
    "            return\n",
    "\n",
    "        position: Optional[Position] = self.position\n",
    "\n",
    "        price = close\n",
    "        assert price > 0\n",
    "\n",
    "        if not position:\n",
    "            # We are not in the markets, check entry\n",
    "            if close >= avg and close <= low and not position:\n",
    "                # Enter when we are above moving average and the daily close was\n",
    "                assert close > 0\n",
    "                print(f\"Tick {self.tick} buy at {price}\")\n",
    "                self.buy(price=price, hint=TradeHint(type=TradeHintType.open))\n",
    "        else:\n",
    "            # We are in the markets, check exit\n",
    "            if close >= high:\n",
    "                # If the price closes above its 7 day high, exit from the markets\n",
    "                #print(\"Exited the position\")\n",
    "                print(f\"Tick {self.tick} - exiting at {price}\")\n",
    "                self.close(price=price, hint=TradeHint(type=TradeHintType.close))\n",
    "            else:\n",
    "                # Check the exit from the market through stop loss\n",
    "\n",
    "                # Because AMMs do not support complex order types,\n",
    "                # only swaps, we do not manual stop loss here by\n",
    "                # brute market sell in the case the price falls below the stop loss threshold\n",
    "\n",
    "                entry_price = self.last_opened_buy.price\n",
    "                if close <= entry_price * STOP_LOSS:\n",
    "                    print(f\"Tick {self.tick}, stop loss triggered. Now {close}, opened at {entry_price}\")\n",
    "                    self.close(price=price, hint=TradeHint(type=TradeHintType.stop_loss_triggered))\n"
   ]
  },
  {
   "cell_type": "markdown",
   "metadata": {
    "pycharm": {
     "name": "#%% md\n"
    }
   },
   "source": [
    "## Setting up the strategy backtest\n",
    "\n",
    "This set ups the data sources and plumping for running the backtest (\"boilerplate\" in software development terms)."
   ]
  },
  {
   "cell_type": "code",
   "execution_count": 28,
   "metadata": {
    "pycharm": {
     "name": "#%%\n"
    }
   },
   "outputs": [
    {
     "name": "stdout",
     "output_type": "stream",
     "text": [
      "Dataset size is 3491 candles\n"
     ]
    }
   ],
   "source": [
    "from tradingstrategy.frameworks.backtrader import prepare_candles_for_backtrader, add_dataframes_as_feeds, TradeRecorder\n",
    "from tradingstrategy.pair import PandasPairUniverse\n",
    "\n",
    "# Operate on daily candles\n",
    "strategy_time_bucket = CANDLE_KIND\n",
    "\n",
    "exchange_universe = client.fetch_exchange_universe()\n",
    "columnar_pair_table = client.fetch_pair_universe()\n",
    "all_pairs_dataframe = columnar_pair_table.to_pandas()\n",
    "pair_universe = PandasPairUniverse(all_pairs_dataframe)\n",
    "\n",
    "# Filter down to pairs that only trade on Sushiswap\n",
    "sushi_swap = exchange_universe.get_by_name_and_chain(BLOCKCHAIN, EXCHANGE)\n",
    "pair = pair_universe.get_one_pair_from_pandas_universe(\n",
    "    sushi_swap.exchange_id,\n",
    "    TARGET_PAIR[0],\n",
    "    TARGET_PAIR[1])\n",
    "\n",
    "assert pair, f\"Could no find trading pair {TARGET_PAIR}\"\n",
    "\n",
    "all_candles = client.fetch_all_candles(strategy_time_bucket).to_pandas()\n",
    "pair_candles: pd.DataFrame = all_candles.loc[all_candles[\"pair_id\"] == pair.pair_id]\n",
    "pair_candles = prepare_candles_for_backtrader(pair_candles)\n",
    "\n",
    "# We limit candles to a specific date range to make this notebook deterministic\n",
    "pair_candles = pair_candles[(pair_candles.index >= BACKTESTING_BEGINS) & (pair_candles.index <= BACKTESTING_ENDS)]\n",
    "\n",
    "print(f\"Dataset size is {len(pair_candles)} candles\")\n",
    "\n",
    "# This strategy requires data for 100 days. Because we are operating on new exchanges,\n",
    "# there simply might not be enough data there\n",
    "assert len(pair_candles) > MOVING_AVERAGE_CANDLES, \"We do not have enough data to execute the strategy\"\n",
    "\n",
    "# Create the Backtrader back testing engine \"Cebebro\"\n",
    "cerebro = bt.Cerebro(stdstats=True)\n",
    "\n",
    "# Add out strategy\n",
    "cerebro.addstrategy(Double7)\n",
    "\n",
    "# Add two analyzers for the strategy performance\n",
    "cerebro.addanalyzer(bt.analyzers.SharpeRatio, riskfreerate=0.0)\n",
    "cerebro.addanalyzer(bt.analyzers.Returns)\n",
    "cerebro.addanalyzer(bt.analyzers.DrawDown)\n",
    "cerebro.addanalyzer(TradeRecorder)\n",
    "\n",
    "add_dataframes_as_feeds(\n",
    "    cerebro,\n",
    "    pair_universe,\n",
    "    [pair_candles],\n",
    "    BACKTESTING_BEGINS,\n",
    "    BACKTESTING_ENDS,\n",
    "    strategy_time_bucket,\n",
    "    plot=True)"
   ]
  },
  {
   "cell_type": "markdown",
   "metadata": {
    "pycharm": {
     "name": "#%% md\n"
    }
   },
   "source": [
    "## Running the backtest\n",
    "\n",
    "Now when everything has been set up we execute the backtest."
   ]
  },
  {
   "cell_type": "code",
   "execution_count": 29,
   "metadata": {
    "pycharm": {
     "name": "#%%\n"
    }
   },
   "outputs": [
    {
     "name": "stdout",
     "output_type": "stream",
     "text": [
      "Tick 2485 buy at 1.9683071374893188\n",
      "Tick 2486, stop loss triggered. Now 1.8583532571792603, opened at 1.9683071374893188\n",
      "Tick 2907 buy at 1.60282301902771\n",
      "Tick 2983, stop loss triggered. Now 1.4768345355987549, opened at 1.60282301902771\n",
      "Tick 3333 buy at 0.8004588484764099\n",
      "Tick 3337, stop loss triggered. Now 0.7378554344177246, opened at 0.8004588484764099\n",
      "Tick 3524 buy at 0.7570730447769165\n",
      "Tick 3549, stop loss triggered. Now 0.6316179037094116, opened at 0.7570730447769165\n",
      "Tick 3602 buy at 0.7081977725028992\n",
      "Tick 3770 - exiting at 0.8167815208435059\n",
      "Tick 3946 buy at 0.6908803582191467\n",
      "Tick 4046, stop loss triggered. Now 0.6221777200698853, opened at 0.6908803582191467\n",
      "Tick 4126 buy at 0.5114973783493042\n",
      "Tick 4131 - exiting at 0.5403599143028259\n",
      "Tick 4136 buy at 0.5068181753158569\n",
      "Tick 4139, stop loss triggered. Now 0.4874907433986664, opened at 0.5068181753158569\n",
      "Tick 4254 buy at 0.5383355617523193\n",
      "Tick 4280 - exiting at 0.5692570805549622\n",
      "Tick 4282 buy at 0.544221818447113\n",
      "Tick 4307 - exiting at 0.6151211261749268\n",
      "Tick 4417 buy at 0.655580461025238\n",
      "Tick 4422 - exiting at 0.6865856051445007\n",
      "Tick 4451 buy at 0.7334434390068054\n",
      "Tick 4468 - exiting at 0.7622876167297363\n",
      "Tick 4570 buy at 0.6687475442886353\n",
      "Tick 4582 - exiting at 0.6831116080284119\n",
      "Tick 4616 buy at 0.7180466055870056\n",
      "Tick 4875, stop loss triggered. Now 0.5617279410362244, opened at 0.7180466055870056\n",
      "Tick 4984 buy at 0.556090235710144\n",
      "Tick 5061 - exiting at 0.5869356989860535\n",
      "Tick 5111 buy at 0.6591233611106873\n",
      "Tick 5112, stop loss triggered. Now 0.637208878993988, opened at 0.6591233611106873\n",
      "Tick 5140 buy at 0.6618839502334595\n",
      "Tick 5150 - exiting at 0.6624585390090942\n",
      "Tick 5491 buy at 0.9342182874679565\n",
      "Tick 5492, stop loss triggered. Now 0.8841670155525208, opened at 0.9342182874679565\n",
      "Tick 5494 buy at 0.869238018989563\n",
      "Tick 5501 - exiting at 0.8855555653572083\n",
      "Tick 5505 buy at 0.8453928232192993\n",
      "Tick 5510 - exiting at 0.8978181481361389\n",
      "Tick 5516 buy at 0.8400226831436157\n",
      "Tick 5557 - exiting at 1.0949862003326416\n",
      "Tick 5562 buy at 1.039179801940918\n",
      "Tick 5591, stop loss triggered. Now 0.9940859079360962, opened at 1.039179801940918\n",
      "Tick 5987 buy at 0.9484875202178955\n",
      "Tick 6056, stop loss triggered. Now 0.8462098240852356, opened at 0.9484875202178955\n",
      "Tick 6093 buy at 0.8784344792366028\n",
      "Tick 6097, stop loss triggered. Now 0.8453476428985596, opened at 0.8784344792366028\n",
      "Tick 6209 buy at 0.8610382080078125\n",
      "Tick 6242 - exiting at 0.8306818604469299\n"
     ]
    }
   ],
   "source": [
    "# Run the backtest using the backtesting engine and store the results\n",
    "results = cerebro.run()"
   ]
  },
  {
   "cell_type": "markdown",
   "metadata": {
    "pycharm": {
     "name": "#%% md\n"
    }
   },
   "source": [
    "## Analyzing the strategy results\n",
    "\n",
    "After the strategy is run, we need to figure out how well it performs.\n",
    "\n",
    "We use Trading Strategy toolkit to break down the trades."
   ]
  },
  {
   "cell_type": "code",
   "execution_count": 30,
   "metadata": {
    "pycharm": {
     "name": "#%%\n"
    }
   },
   "outputs": [
    {
     "name": "stdout",
     "output_type": "stream",
     "text": [
      "Got event AutoOrderedDict([('order', <backtrader.order.BuyOrder object at 0x7fb7b03a1130>), ('size', 1), ('price', 1.911867380142212), ('commission', 0.0)]) AutoOrderedDict([('status', 1), ('dt', 737894.5833333334), ('barlen', 0), ('size', 1), ('price', 1.911867380142212), ('value', 1.911867380142212), ('pnl', 0.0), ('pnlcomm', 0.0), ('tz', None)])\n",
      "Got event AutoOrderedDict([('order', <backtrader.order.SellOrder object at 0x7fb7c4671370>), ('size', -1), ('price', 0.0), ('commission', 0.0)]) AutoOrderedDict([('status', 2), ('dt', 737894.625), ('barlen', 1), ('size', 0), ('price', 1.911867380142212), ('value', 0.0), ('pnl', -1.911867380142212), ('pnlcomm', -1.911867380142212), ('tz', None)])\n"
     ]
    },
    {
     "ename": "AssertionError",
     "evalue": "Got invalid trade event AutoOrderedDict([('order', <backtrader.order.SellOrder object at 0x7fb7c4671370>), ('size', -1), ('price', 0.0), ('commission', 0.0)])",
     "output_type": "error",
     "traceback": [
      "\u001B[0;31m---------------------------------------------------------------------------\u001B[0m",
      "\u001B[0;31mAssertionError\u001B[0m                            Traceback (most recent call last)",
      "\u001B[0;32m/var/folders/23/qsmpv3gd2lx88f7p6wp3t3yc0000gn/T/ipykernel_11089/1949521496.py\u001B[0m in \u001B[0;36m<module>\u001B[0;34m\u001B[0m\n\u001B[1;32m      4\u001B[0m \u001B[0;34m\u001B[0m\u001B[0m\n\u001B[1;32m      5\u001B[0m \u001B[0mtrades\u001B[0m \u001B[0;34m=\u001B[0m \u001B[0mstrategy\u001B[0m\u001B[0;34m.\u001B[0m\u001B[0manalyzers\u001B[0m\u001B[0;34m.\u001B[0m\u001B[0mtraderecorder\u001B[0m\u001B[0;34m.\u001B[0m\u001B[0mtrades\u001B[0m\u001B[0;34m\u001B[0m\u001B[0;34m\u001B[0m\u001B[0m\n\u001B[0;32m----> 6\u001B[0;31m \u001B[0mtrade_analysis\u001B[0m \u001B[0;34m=\u001B[0m \u001B[0manalyse_strategy_trades\u001B[0m\u001B[0;34m(\u001B[0m\u001B[0mtrades\u001B[0m\u001B[0;34m)\u001B[0m\u001B[0;34m\u001B[0m\u001B[0;34m\u001B[0m\u001B[0m\n\u001B[0m\u001B[1;32m      7\u001B[0m \u001B[0;34m\u001B[0m\u001B[0m\n\u001B[1;32m      8\u001B[0m \u001B[0;34m\u001B[0m\u001B[0m\n",
      "\u001B[0;32m~/code/ts/client/tradingstrategy/frameworks/backtrader.py\u001B[0m in \u001B[0;36manalyse_strategy_trades\u001B[0;34m(trades)\u001B[0m\n\u001B[1;32m    235\u001B[0m             \u001B[0mprint\u001B[0m\u001B[0;34m(\u001B[0m\u001B[0;34m\"Got event\"\u001B[0m\u001B[0;34m,\u001B[0m \u001B[0mevent\u001B[0m\u001B[0;34m,\u001B[0m \u001B[0mstatus\u001B[0m\u001B[0;34m)\u001B[0m\u001B[0;34m\u001B[0m\u001B[0;34m\u001B[0m\u001B[0m\n\u001B[1;32m    236\u001B[0m             \u001B[0;32massert\u001B[0m \u001B[0mquantity\u001B[0m \u001B[0;34m!=\u001B[0m \u001B[0;36m0\u001B[0m\u001B[0;34m,\u001B[0m \u001B[0;34mf\"Got bad quantity for {status}\"\u001B[0m\u001B[0;34m\u001B[0m\u001B[0;34m\u001B[0m\u001B[0m\n\u001B[0;32m--> 237\u001B[0;31m             \u001B[0;32massert\u001B[0m \u001B[0mprice\u001B[0m \u001B[0;34m>\u001B[0m \u001B[0;36m0\u001B[0m\u001B[0;34m,\u001B[0m \u001B[0;34mf\"Got invalid trade event {event}\"\u001B[0m\u001B[0;34m\u001B[0m\u001B[0;34m\u001B[0m\u001B[0m\n\u001B[0m\u001B[1;32m    238\u001B[0m \u001B[0;34m\u001B[0m\u001B[0m\n\u001B[1;32m    239\u001B[0m             trade = SpotTrade(\n",
      "\u001B[0;31mAssertionError\u001B[0m: Got invalid trade event AutoOrderedDict([('order', <backtrader.order.SellOrder object at 0x7fb7c4671370>), ('size', -1), ('price', 0.0), ('commission', 0.0)])"
     ]
    }
   ],
   "source": [
    "from tradingstrategy.frameworks.backtrader import analyse_strategy_trades\n",
    "\n",
    "strategy: Double7 = results[0]\n",
    "\n",
    "trades = strategy.analyzers.traderecorder.trades\n",
    "trade_analysis = analyse_strategy_trades(trades)\n"
   ]
  },
  {
   "cell_type": "markdown",
   "metadata": {
    "pycharm": {
     "name": "#%% md\n"
    }
   },
   "source": [
    "### Strategy key performance figures\n",
    "\n",
    "Some standard performance figures for quantative finance."
   ]
  },
  {
   "cell_type": "code",
   "execution_count": null,
   "metadata": {
    "pycharm": {
     "name": "#%%\n"
    },
    "scrolled": true
   },
   "outputs": [],
   "source": [
    "print(f\"Backtesting range {BACKTESTING_BEGINS.date()} - {BACKTESTING_ENDS.date()}\")\n",
    "print(f\"Sharpe: {strategy.analyzers.sharperatio.get_analysis()['sharperatio']:.3f}\")\n",
    "print(f\"Normalised annual return: {strategy.analyzers.returns.get_analysis()['rnorm100']:.2f}%\")\n",
    "print(f\"Max drawdown: {strategy.analyzers.drawdown.get_analysis()['max']['drawdown']:.2f}%\")"
   ]
  },
  {
   "cell_type": "markdown",
   "source": [
    "### Trading summary\n",
    "\n",
    "Some basic statistics on the success of trades."
   ],
   "metadata": {
    "collapsed": false,
    "pycharm": {
     "name": "#%% md\n"
    }
   }
  },
  {
   "cell_type": "code",
   "execution_count": null,
   "outputs": [],
   "source": [
    "from IPython.core.display import HTML\n",
    "from IPython.display import display\n",
    "\n",
    "from tradingstrategy.analysis.tradeanalyzer import TradeSummary\n",
    "\n",
    "strategy: Double7 = results[0]\n",
    "cash_left = strategy.broker.get_cash()\n",
    "summary: TradeSummary = trade_analysis.calculate_summary_statistics(INITIAL_CASH, cash_left)\n",
    "\n",
    "display(HTML(summary.to_dataframe().to_html(header=False)))"
   ],
   "metadata": {
    "collapsed": false,
    "pycharm": {
     "name": "#%%\n"
    }
   }
  },
  {
   "cell_type": "markdown",
   "source": [
    "### Trade success histogram\n",
    "\n",
    "Show the distribution of won and lost trades as a histogram."
   ],
   "metadata": {
    "collapsed": false,
    "pycharm": {
     "name": "#%% md\n"
    }
   }
  },
  {
   "cell_type": "code",
   "execution_count": null,
   "outputs": [],
   "source": [
    "from matplotlib.figure import Figure\n",
    "from tradingstrategy.analysis.tradeanalyzer import expand_timeline\n",
    "from tradingstrategy.analysis.profitdistribution import plot_trade_profit_distribution\n",
    "\n",
    "# Set the colors we use to colorise our PnL.\n",
    "# You can adjust there colours to make the\n",
    "# trade timeline more visual.\n",
    "# These colors are later used in the trade timeline table.\n",
    "vmin = -0.10  # Extreme red if -15% PnL\n",
    "vmax = 0.10  # Extreme green if 15% PnL\n",
    "\n",
    "timeline = trade_analysis.create_timeline()\n",
    "expanded_timeline, _ = expand_timeline(exchange_universe, pair_universe, timeline)\n",
    "\n",
    "fig: Figure = plot_trade_profit_distribution(\n",
    "    expanded_timeline,\n",
    "    bins=10,\n",
    "    vmin=vmin,\n",
    "    vmax=vmax)"
   ],
   "metadata": {
    "collapsed": false,
    "pycharm": {
     "name": "#%%\n"
    }
   }
  },
  {
   "cell_type": "markdown",
   "metadata": {
    "pycharm": {
     "name": "#%% md\n"
    }
   },
   "source": [
    "### Chart analysis\n",
    "\n",
    "The Backtrader default output chart will display the portfolio value\n",
    "develoment and when the individual trades were made."
   ]
  },
  {
   "cell_type": "code",
   "execution_count": null,
   "metadata": {
    "pycharm": {
     "name": "#%%\n"
    }
   },
   "outputs": [],
   "source": [
    "import datetime\n",
    "import matplotlib.pyplot as pyplot\n",
    "\n",
    "# Increase the size of the chart to be more readable,\n",
    "# look better on high DPI monitor output\n",
    "pyplot.rcParams['figure.figsize'] = [20, 10]\n",
    "\n",
    "# We can cut the head period of the backtesting away,\n",
    "# as there aren't any trades until the first moving average time period is complete\n",
    "trading_begins_at = (BACKTESTING_BEGINS + MOVING_AVERAGE_CANDLES * datetime.timedelta(days=1)).date()\n",
    "\n",
    "# Get all produced figures (one per strategy)\n",
    "figs = cerebro.plot(iplot=True, start=trading_begins_at)"
   ]
  },
  {
   "cell_type": "markdown",
   "source": [
    "### Trading timeline\n",
    "\n",
    "The timeline displays individual trades the strategy made. This is good for figuring out some really stupid trades the algorithm might have made."
   ],
   "metadata": {
    "collapsed": false,
    "pycharm": {
     "name": "#%% md\n"
    }
   }
  },
  {
   "cell_type": "code",
   "execution_count": null,
   "outputs": [],
   "source": [
    "from tradingstrategy.analysis.tradeanalyzer import expand_timeline\n",
    "\n",
    "# Generate raw timeline of position open and close events\n",
    "timeline = trade_analysis.create_timeline()\n",
    "\n",
    "# Because this is s a single strategy asset,\n",
    "# we can reduce the columns we render in the trade summary\n",
    "hidden_columns = [\n",
    "    \"Id\",\n",
    "    \"PnL % raw\",\n",
    "    \"Exchange\",\n",
    "    \"Base asset\",\n",
    "    \"Quote asset\"\n",
    "]\n",
    "\n",
    "# Expand timeline with human-readable exchange and pair symbols\n",
    "expanded_timeline, apply_styles = expand_timeline(\n",
    "    exchange_universe,\n",
    "    pair_universe,\n",
    "    timeline,\n",
    "    vmin,\n",
    "    vmax,\n",
    "    hidden_columns)\n",
    "\n",
    "# Do not truncate the row output\n",
    "with pd.option_context(\"display.max_row\", None):\n",
    "    display(apply_styles(expanded_timeline))\n",
    "\n"
   ],
   "metadata": {
    "collapsed": false,
    "pycharm": {
     "name": "#%%\n"
    }
   }
  }
 ],
 "metadata": {
  "kernelspec": {
   "name": "python3",
   "language": "python",
   "display_name": "Python 3 (ipykernel)"
  },
  "language_info": {
   "codemirror_mode": {
    "name": "ipython",
    "version": 3
   },
   "file_extension": ".py",
   "mimetype": "text/x-python",
   "name": "python",
   "nbconvert_exporter": "python",
   "pygments_lexer": "ipython3",
   "version": "3.8.5"
  }
 },
 "nbformat": 4,
 "nbformat_minor": 1
}